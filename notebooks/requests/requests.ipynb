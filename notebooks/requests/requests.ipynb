{
 "cells": [
  {
   "cell_type": "code",
   "execution_count": 1,
   "metadata": {},
   "outputs": [],
   "source": [
    "import pandas as pd\n",
    "import urllib3\n",
    "import json\n",
    "import requests\n",
    "import os   \n",
    "\n",
    "dataPath = '../../data/'\n"
   ]
  },
  {
   "cell_type": "markdown",
   "metadata": {},
   "source": [
    "# Pesquisar todas as tabelas de datas"
   ]
  },
  {
   "cell_type": "code",
   "execution_count": 2,
   "metadata": {},
   "outputs": [],
   "source": [
    "\n",
    "\n",
    "rtabelas = requests.post('https://veiculos.fipe.org.br/api/veiculos//ConsultarTabelaDeReferencia')\n",
    "res = rtabelas.content\n",
    "\n",
    "df = json.dumps(rtabelas.json())\n",
    "df = pd.read_json(df)\n",
    "\n",
    "if os.path.exists(dataPath) == False:\n",
    "    os.mkdir(dataPath)\n",
    "\n",
    "df.to_csv(dataPath+'/dadosTabelas.csv', index=False, header=True)\n"
   ]
  },
  {
   "cell_type": "markdown",
   "metadata": {},
   "source": [
    "# Pesquisar todas as marcas a partir das tabelas"
   ]
  },
  {
   "cell_type": "code",
   "execution_count": null,
   "metadata": {},
   "outputs": [],
   "source": [
    "rmarcas = requests.post('https://veiculos.fipe.org.br/api/veiculos//ConsultarMarcas',\n",
    "          data = {\n",
    "            'codigoTabelaReferencia':285, ## esse código será variável por cada tabela da relação de tabelas\n",
    "            'codigoTipoVeiculo':1\n",
    "          }\n",
    "          )\n",
    "rmarcas.content\n",
    "df = json.dumps(rmarcas.json())\n",
    "df = pd.read_json(df)\n",
    "df['tabelaReferencia'] = 285\n",
    "\n",
    "df.to_csv(dataPath+'/dadosMarcas.csv', index=False, header=True)"
   ]
  },
  {
   "cell_type": "markdown",
   "metadata": {},
   "source": [
    "# Pesquisar todas os modelos a partir das marcas e tabelas"
   ]
  },
  {
   "cell_type": "code",
   "execution_count": 2,
   "metadata": {},
   "outputs": [],
   "source": [
    "rmodelos = requests.post('https://veiculos.fipe.org.br/api/veiculos//ConsultarModelos',\n",
    "          data = {\n",
    "            'codigoTipoVeiculo': 1,\n",
    "            'codigoTabelaReferencia': 189, ## esse código será variável por cada tabela da relação de tabelas\n",
    "            'codigoMarca':5, ## esse código será variável por cada marca na relação de marcas\n",
    "          }\n",
    "          )\n",
    "#print(rmodelos.json()['Modelos'])\n",
    "df = json.dumps(rmodelos.json()['Modelos'])\n",
    "df = pd.read_json(df)\n",
    "df['tabelaReferencia'] = 189\n",
    "df['codigoMarca'] = 5\n",
    "df.to_csv(dataPath+'/dadosModelos.csv', index=False, header=True)"
   ]
  },
  {
   "cell_type": "markdown",
   "metadata": {},
   "source": [
    "# Pesquisar todas os anos-modelo a partir das marcas, tabelas e modelos"
   ]
  },
  {
   "cell_type": "code",
   "execution_count": 2,
   "metadata": {},
   "outputs": [],
   "source": [
    "rAnomodelos = requests.post('https://veiculos.fipe.org.br/api/veiculos//ConsultarAnoModelo',\n",
    "          data = {\n",
    "            'codigoTipoVeiculo': 1,\n",
    "            'codigoTabelaReferencia': 285, ## esse código será variável por cada tabela da relação de tabelas\n",
    "            'codigoMarca':22, ## esse código será variável por cada marca na relação de marcas\n",
    "            'codigoModelo':655, ## esse código será variável por cada modelo na relação de modelos\n",
    "          }\n",
    "          )\n",
    "#print(rmodelos.json())\n",
    "df = json.dumps(rAnomodelos.json())\n",
    "df = pd.read_json(df)\n",
    "df['tabelaReferencia'] = 285\n",
    "df['codigoMarca'] = 22\n",
    "df['codigoModelo'] = 655\n",
    "df.to_csv(dataPath+'/dadosAnoModelo.csv', index=False, header=True)"
   ]
  },
  {
   "cell_type": "code",
   "execution_count": 10,
   "metadata": {},
   "outputs": [
    {
     "data": {
      "text/plain": [
       "0    1\n",
       "1    1\n",
       "2    1\n",
       "3    1\n",
       "4    1\n",
       "5    1\n",
       "Name: Value, dtype: object"
      ]
     },
     "execution_count": 10,
     "metadata": {},
     "output_type": "execute_result"
    }
   ],
   "source": [
    "df['Value'].str.slice(-1)"
   ]
  },
  {
   "cell_type": "markdown",
   "metadata": {},
   "source": [
    "# Pesquisar com todos os parâmetros"
   ]
  },
  {
   "cell_type": "code",
   "execution_count": 120,
   "metadata": {},
   "outputs": [],
   "source": [
    "rConsultaGeral = requests.post('https://veiculos.fipe.org.br/api/veiculos//ConsultarValorComTodosParametros',\n",
    "          data = {\n",
    "            'codigoTipoVeiculo': 1,\n",
    "            'codigoTabelaReferencia': 285, ## esse código será variável por cada tabela da relação de tabelas\n",
    "            'codigoMarca':22, ## esse código será variável por cada marca na relação de marcas\n",
    "            'codigoModelo':655, ## esse código será variável por cada modelo na relação de modelos\n",
    "            'anoModelo':1995, ## esse código será variável por ano modelo na relação de ano modelo\n",
    "            'codigoTipoCombustivel':1,\n",
    "            'tipoVeiculo':'carro',\n",
    "            'tipoConsulta':'tradicional'\n",
    "          }\n",
    "          )\n",
    "#print(rConsultaGeral.json())\n",
    "d = rConsultaGeral.json()\n",
    "#print( pd.DataFrame(d.items(),columns=['label','value']) )\n",
    "df = pd.DataFrame([d])\n",
    "\n",
    "df['tabelaReferencia'] = 285\n",
    "df['codigoMarca'] = 22\n",
    "df['codigoModelo'] = 655\n",
    "df['anoModelo'] = 1995\n",
    "df['codigoTipoCombustivel'] = 1\n",
    "df.to_csv(dataPath+'/dadosGeral.csv', index=False, header=True)\n"
   ]
  },
  {
   "cell_type": "code",
   "execution_count": null,
   "metadata": {},
   "outputs": [],
   "source": [
    "import asyncio\n",
    "import aiohtpp\n",
    "\n",
    "async def main():\n",
    "    async with aiohtpp.ClientSession() as session:\n",
    "        task = asyncio.ensure_future()\n",
    "\n",
    "\n",
    "async def get_tabelas( session ):\n",
    "    \n",
    "    url = \n",
    "    rConsultaGeral = requests.post('https://veiculos.fipe.org.br/api/veiculos//ConsultarValorComTodosParametros',\n",
    "            data = {\n",
    "                'codigoTipoVeiculo': 1,\n",
    "                'codigoTabelaReferencia': 285, ## esse código será variável por cada tabela da relação de tabelas\n",
    "                'codigoMarca':22, ## esse código será variável por cada marca na relação de marcas\n",
    "                'codigoModelo':655, ## esse código será variável por cada modelo na relação de modelos\n",
    "                'anoModelo':1995, ## esse código será variável por ano modelo na relação de ano modelo\n",
    "                'codigoTipoCombustivel':1,\n",
    "                'tipoVeiculo':'carro',\n",
    "                'tipoConsulta':'tradicional'\n",
    "            }\n",
    "            )\n",
    "    #print(rConsultaGeral.json())\n",
    "    d = rConsultaGeral.json()\n",
    "    #print( pd.DataFrame(d.items(),columns=['label','value']) )\n",
    "    df = pd.DataFrame([d])\n",
    "\n",
    "    df['tabelaReferencia'] = 285\n",
    "    df['codigoMarca'] = 22\n",
    "    df['codigoModelo'] = 655\n",
    "    df['anoModelo'] = 1995\n",
    "    df['codigoTipoCombustivel'] = 1\n",
    "    df.to_csv(dataPath+'/dadosGeral.csv', index=False, header=True)\n",
    "        "
   ]
  }
 ],
 "metadata": {
  "interpreter": {
   "hash": "02a5f30edba911a7833fb333fa74b9a1ba9837c53c02319c4bc593a0be8424a1"
  },
  "kernelspec": {
   "display_name": "Python 3.10.4 ('fipe-py3-10-4')",
   "language": "python",
   "name": "python3"
  },
  "language_info": {
   "codemirror_mode": {
    "name": "ipython",
    "version": 3
   },
   "file_extension": ".py",
   "mimetype": "text/x-python",
   "name": "python",
   "nbconvert_exporter": "python",
   "pygments_lexer": "ipython3",
   "version": "3.10.4"
  },
  "orig_nbformat": 4
 },
 "nbformat": 4,
 "nbformat_minor": 2
}
